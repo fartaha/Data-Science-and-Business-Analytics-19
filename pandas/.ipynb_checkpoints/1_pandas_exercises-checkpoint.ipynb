{
 "cells": [
  {
   "cell_type": "markdown",
   "metadata": {},
   "source": [
    "# Pandas Exercises\n",
    "## Basics\n",
    "\n",
    "We'll go through the basics of pandas using a year's worth of weather data \n",
    "from Weather Underground."
   ]
  },
  {
   "cell_type": "code",
   "execution_count": 2,
   "metadata": {},
   "outputs": [],
   "source": [
    "import pandas\n",
    "\n",
    "data = pandas.read_csv(\"https://raw.githubusercontent.com/evdoks/\" \\\n",
    "                       \"data_science/master/data/weather_year.csv\")"
   ]
  },
  {
   "cell_type": "markdown",
   "metadata": {},
   "source": [
    "Get some information about the DataFrame"
   ]
  },
  {
   "cell_type": "code",
   "execution_count": 3,
   "metadata": {},
   "outputs": [
    {
     "name": "stdout",
     "output_type": "stream",
     "text": [
      "Number of rows: \n",
      "366\n",
      "\n",
      "Columns: \n",
      "Index(['EDT', 'Max TemperatureF', 'Mean TemperatureF', 'Min TemperatureF',\n",
      "       'Max Dew PointF', 'MeanDew PointF', 'Min DewpointF', 'Max Humidity',\n",
      "       ' Mean Humidity', ' Min Humidity', ' Max Sea Level PressureIn',\n",
      "       ' Mean Sea Level PressureIn', ' Min Sea Level PressureIn',\n",
      "       ' Max VisibilityMiles', ' Mean VisibilityMiles', ' Min VisibilityMiles',\n",
      "       ' Max Wind SpeedMPH', ' Mean Wind SpeedMPH', ' Max Gust SpeedMPH',\n",
      "       'PrecipitationIn', ' CloudCover', ' Events', ' WindDirDegrees'],\n",
      "      dtype='object')\n"
     ]
    }
   ],
   "source": [
    "print(\"Number of rows: \")\n",
    "print(len(data))\n",
    "\n",
    "print(\"\\nColumns: \")\n",
    "print(data.columns)"
   ]
  },
  {
   "cell_type": "markdown",
   "metadata": {},
   "source": [
    "Let's explore the content of the DataFrame"
   ]
  },
  {
   "cell_type": "code",
   "execution_count": 4,
   "metadata": {},
   "outputs": [
    {
     "name": "stdout",
     "output_type": "stream",
     "text": [
      "EDT column:\n",
      "0    2012-3-10\n",
      "1    2012-3-11\n",
      "2    2012-3-12\n",
      "3    2012-3-13\n",
      "4    2012-3-14\n",
      "Name: EDT, dtype: object\n"
     ]
    }
   ],
   "source": [
    "# access single column\n",
    "print(\"EDT column:\")\n",
    "print(data[\"EDT\"].head())  # data.EDT will also work"
   ]
  },
  {
   "cell_type": "code",
   "execution_count": 5,
   "metadata": {},
   "outputs": [
    {
     "name": "stdout",
     "output_type": "stream",
     "text": [
      "\n",
      "EDT and TemperatureF columna:\n",
      "         EDT  Mean TemperatureF\n",
      "0  2012-3-10                 40\n",
      "1  2012-3-11                 49\n",
      "2  2012-3-12                 62\n",
      "3  2012-3-13                 63\n",
      "4  2012-3-14                 62\n"
     ]
    }
   ],
   "source": [
    "# access several columns\n",
    "print(\"\\nEDT and TemperatureF columna:\")\n",
    "print(data[[\"EDT\", \"Mean TemperatureF\"]].head())"
   ]
  },
  {
   "cell_type": "markdown",
   "metadata": {},
   "source": [
    "### Exercise 1\n",
    "\n",
    "How would we get the second to last date (EDT) in the dataset?"
   ]
  },
  {
   "cell_type": "code",
   "execution_count": 6,
   "metadata": {},
   "outputs": [
    {
     "name": "stdout",
     "output_type": "stream",
     "text": [
      "364     2013-3-9\n",
      "365    2013-3-10\n",
      "Name: EDT, dtype: object\n",
      "2013-3-10\n"
     ]
    }
   ],
   "source": [
    "# Hint: # Combine head() and tail()\n",
    "\n",
    "# <write your solution here>\n",
    "last_two_dates = data[\"EDT\"].tail(2)\n",
    "print(last_two_dates)\n",
    "second_to_last_date = last_two_dates.iloc[1]\n",
    "\n",
    "print(second_to_last_date)"
   ]
  },
  {
   "cell_type": "markdown",
   "metadata": {},
   "source": [
    "Working with columns: rename individual columns with the `rename()` method of \n",
    "the DataFrame."
   ]
  },
  {
   "cell_type": "code",
   "execution_count": 7,
   "metadata": {},
   "outputs": [
    {
     "name": "stdout",
     "output_type": "stream",
     "text": [
      "Index(['EDT', 'max_temp', 'Mean TemperatureF', 'min_temp', 'Max Dew PointF',\n",
      "       'MeanDew PointF', 'Min DewpointF', 'Max Humidity', ' Mean Humidity',\n",
      "       ' Min Humidity', ' Max Sea Level PressureIn',\n",
      "       ' Mean Sea Level PressureIn', ' Min Sea Level PressureIn',\n",
      "       ' Max VisibilityMiles', ' Mean VisibilityMiles', ' Min VisibilityMiles',\n",
      "       ' Max Wind SpeedMPH', ' Mean Wind SpeedMPH', ' Max Gust SpeedMPH',\n",
      "       'PrecipitationIn', ' CloudCover', ' Events', ' WindDirDegrees'],\n",
      "      dtype='object')\n"
     ]
    }
   ],
   "source": [
    "data = data.rename(columns={ \"Max TemperatureF\": \"max_temp\", \n",
    "                            \"Min TemperatureF\": \"min_temp\" })\n",
    "print(data.columns)"
   ]
  },
  {
   "cell_type": "markdown",
   "metadata": {},
   "source": [
    "Modify all  of our column names at the same time. \n",
    "This is as easy as assigning a new list of column names to the `columns` \n",
    "property of the DataFrame."
   ]
  },
  {
   "cell_type": "code",
   "execution_count": 8,
   "metadata": {},
   "outputs": [
    {
     "data": {
      "text/html": [
       "<div>\n",
       "<style scoped>\n",
       "    .dataframe tbody tr th:only-of-type {\n",
       "        vertical-align: middle;\n",
       "    }\n",
       "\n",
       "    .dataframe tbody tr th {\n",
       "        vertical-align: top;\n",
       "    }\n",
       "\n",
       "    .dataframe thead th {\n",
       "        text-align: right;\n",
       "    }\n",
       "</style>\n",
       "<table border=\"1\" class=\"dataframe\">\n",
       "  <thead>\n",
       "    <tr style=\"text-align: right;\">\n",
       "      <th></th>\n",
       "      <th>date</th>\n",
       "      <th>max_temp</th>\n",
       "      <th>mean_temp</th>\n",
       "      <th>min_temp</th>\n",
       "      <th>max_dew</th>\n",
       "      <th>mean_dew</th>\n",
       "      <th>min_dew</th>\n",
       "      <th>max_humidity</th>\n",
       "      <th>mean_humidity</th>\n",
       "      <th>min_humidity</th>\n",
       "      <th>...</th>\n",
       "      <th>max_visibilty</th>\n",
       "      <th>mean_visibility</th>\n",
       "      <th>min_visibility</th>\n",
       "      <th>max_wind</th>\n",
       "      <th>mean_wind</th>\n",
       "      <th>min_wind</th>\n",
       "      <th>precipitation</th>\n",
       "      <th>cloud_cover</th>\n",
       "      <th>events</th>\n",
       "      <th>wind_dir</th>\n",
       "    </tr>\n",
       "  </thead>\n",
       "  <tbody>\n",
       "    <tr>\n",
       "      <td>0</td>\n",
       "      <td>2012-3-10</td>\n",
       "      <td>56</td>\n",
       "      <td>40</td>\n",
       "      <td>24</td>\n",
       "      <td>24</td>\n",
       "      <td>20</td>\n",
       "      <td>16</td>\n",
       "      <td>74</td>\n",
       "      <td>50</td>\n",
       "      <td>26</td>\n",
       "      <td>...</td>\n",
       "      <td>10</td>\n",
       "      <td>10</td>\n",
       "      <td>10</td>\n",
       "      <td>13</td>\n",
       "      <td>6</td>\n",
       "      <td>17.0</td>\n",
       "      <td>0.00</td>\n",
       "      <td>0</td>\n",
       "      <td>NaN</td>\n",
       "      <td>138</td>\n",
       "    </tr>\n",
       "    <tr>\n",
       "      <td>1</td>\n",
       "      <td>2012-3-11</td>\n",
       "      <td>67</td>\n",
       "      <td>49</td>\n",
       "      <td>30</td>\n",
       "      <td>43</td>\n",
       "      <td>31</td>\n",
       "      <td>24</td>\n",
       "      <td>78</td>\n",
       "      <td>53</td>\n",
       "      <td>28</td>\n",
       "      <td>...</td>\n",
       "      <td>10</td>\n",
       "      <td>10</td>\n",
       "      <td>10</td>\n",
       "      <td>22</td>\n",
       "      <td>7</td>\n",
       "      <td>32.0</td>\n",
       "      <td>T</td>\n",
       "      <td>1</td>\n",
       "      <td>Rain</td>\n",
       "      <td>163</td>\n",
       "    </tr>\n",
       "    <tr>\n",
       "      <td>2</td>\n",
       "      <td>2012-3-12</td>\n",
       "      <td>71</td>\n",
       "      <td>62</td>\n",
       "      <td>53</td>\n",
       "      <td>59</td>\n",
       "      <td>55</td>\n",
       "      <td>43</td>\n",
       "      <td>90</td>\n",
       "      <td>76</td>\n",
       "      <td>61</td>\n",
       "      <td>...</td>\n",
       "      <td>10</td>\n",
       "      <td>10</td>\n",
       "      <td>6</td>\n",
       "      <td>24</td>\n",
       "      <td>14</td>\n",
       "      <td>36.0</td>\n",
       "      <td>0.03</td>\n",
       "      <td>6</td>\n",
       "      <td>Rain</td>\n",
       "      <td>190</td>\n",
       "    </tr>\n",
       "    <tr>\n",
       "      <td>3</td>\n",
       "      <td>2012-3-13</td>\n",
       "      <td>76</td>\n",
       "      <td>63</td>\n",
       "      <td>50</td>\n",
       "      <td>57</td>\n",
       "      <td>53</td>\n",
       "      <td>47</td>\n",
       "      <td>93</td>\n",
       "      <td>66</td>\n",
       "      <td>38</td>\n",
       "      <td>...</td>\n",
       "      <td>10</td>\n",
       "      <td>10</td>\n",
       "      <td>4</td>\n",
       "      <td>16</td>\n",
       "      <td>5</td>\n",
       "      <td>24.0</td>\n",
       "      <td>0.00</td>\n",
       "      <td>0</td>\n",
       "      <td>NaN</td>\n",
       "      <td>242</td>\n",
       "    </tr>\n",
       "    <tr>\n",
       "      <td>4</td>\n",
       "      <td>2012-3-14</td>\n",
       "      <td>80</td>\n",
       "      <td>62</td>\n",
       "      <td>44</td>\n",
       "      <td>58</td>\n",
       "      <td>52</td>\n",
       "      <td>43</td>\n",
       "      <td>93</td>\n",
       "      <td>68</td>\n",
       "      <td>42</td>\n",
       "      <td>...</td>\n",
       "      <td>10</td>\n",
       "      <td>10</td>\n",
       "      <td>10</td>\n",
       "      <td>16</td>\n",
       "      <td>6</td>\n",
       "      <td>22.0</td>\n",
       "      <td>0.00</td>\n",
       "      <td>0</td>\n",
       "      <td>NaN</td>\n",
       "      <td>202</td>\n",
       "    </tr>\n",
       "  </tbody>\n",
       "</table>\n",
       "<p>5 rows × 23 columns</p>\n",
       "</div>"
      ],
      "text/plain": [
       "        date  max_temp  mean_temp  min_temp  max_dew  mean_dew  min_dew  \\\n",
       "0  2012-3-10        56         40        24       24        20       16   \n",
       "1  2012-3-11        67         49        30       43        31       24   \n",
       "2  2012-3-12        71         62        53       59        55       43   \n",
       "3  2012-3-13        76         63        50       57        53       47   \n",
       "4  2012-3-14        80         62        44       58        52       43   \n",
       "\n",
       "   max_humidity  mean_humidity  min_humidity  ...  max_visibilty  \\\n",
       "0            74             50            26  ...             10   \n",
       "1            78             53            28  ...             10   \n",
       "2            90             76            61  ...             10   \n",
       "3            93             66            38  ...             10   \n",
       "4            93             68            42  ...             10   \n",
       "\n",
       "   mean_visibility  min_visibility  max_wind  mean_wind  min_wind  \\\n",
       "0               10              10        13          6      17.0   \n",
       "1               10              10        22          7      32.0   \n",
       "2               10               6        24         14      36.0   \n",
       "3               10               4        16          5      24.0   \n",
       "4               10              10        16          6      22.0   \n",
       "\n",
       "   precipitation  cloud_cover  events wind_dir  \n",
       "0           0.00            0     NaN      138  \n",
       "1              T            1    Rain      163  \n",
       "2           0.03            6    Rain      190  \n",
       "3           0.00            0     NaN      242  \n",
       "4           0.00            0     NaN      202  \n",
       "\n",
       "[5 rows x 23 columns]"
      ]
     },
     "execution_count": 8,
     "metadata": {},
     "output_type": "execute_result"
    }
   ],
   "source": [
    "data.columns = [\"date\", \"max_temp\", \"mean_temp\", \"min_temp\", \"max_dew\",\n",
    "                \"mean_dew\", \"min_dew\", \"max_humidity\", \"mean_humidity\",\n",
    "                \"min_humidity\", \"max_pressure\", \"mean_pressure\",\n",
    "                \"min_pressure\", \"max_visibilty\", \"mean_visibility\",\n",
    "                \"min_visibility\", \"max_wind\", \"mean_wind\", \"min_wind\",\n",
    "                \"precipitation\", \"cloud_cover\", \"events\", \"wind_dir\"]\n",
    "data.head()"
   ]
  },
  {
   "cell_type": "markdown",
   "metadata": {},
   "source": [
    "Now all columns can be accessed with dot notation!"
   ]
  },
  {
   "cell_type": "markdown",
   "metadata": {},
   "source": [
    "Mean temperature"
   ]
  },
  {
   "cell_type": "code",
   "execution_count": 14,
   "metadata": {},
   "outputs": [
    {
     "data": {
      "text/plain": [
       "0    40\n",
       "1    49\n",
       "2    62\n",
       "3    63\n",
       "4    62\n",
       "Name: mean_temp, dtype: int64"
      ]
     },
     "execution_count": 14,
     "metadata": {},
     "output_type": "execute_result"
    }
   ],
   "source": [
    "data.mean_temp.head()"
   ]
  },
  {
   "cell_type": "markdown",
   "metadata": {},
   "source": [
    "Standard deviation for mean temperature"
   ]
  },
  {
   "cell_type": "code",
   "execution_count": 15,
   "metadata": {},
   "outputs": [
    {
     "data": {
      "text/plain": [
       "18.43650599625107"
      ]
     },
     "execution_count": 15,
     "metadata": {},
     "output_type": "execute_result"
    }
   ],
   "source": [
    "data.mean_temp.std()"
   ]
  },
  {
   "cell_type": "markdown",
   "metadata": {},
   "source": [
    "Standard deviation for all columns"
   ]
  },
  {
   "cell_type": "code",
   "execution_count": 16,
   "metadata": {},
   "outputs": [
    {
     "data": {
      "text/plain": [
       "max_temp           20.361247\n",
       "mean_temp          18.436506\n",
       "min_temp           17.301141\n",
       "max_dew            16.397178\n",
       "mean_dew           16.829996\n",
       "min_dew            17.479449\n",
       "max_humidity        9.108438\n",
       "mean_humidity       9.945591\n",
       "min_humidity       15.360261\n",
       "max_pressure        0.172189\n",
       "mean_pressure       0.174112\n",
       "min_pressure        0.182476\n",
       "max_visibilty       0.073821\n",
       "mean_visibility     1.875406\n",
       "min_visibility      3.792219\n",
       "max_wind            5.564329\n",
       "mean_wind           3.200940\n",
       "min_wind            8.131092\n",
       "cloud_cover         2.707261\n",
       "wind_dir           94.045080\n",
       "dtype: float64"
      ]
     },
     "execution_count": 16,
     "metadata": {},
     "output_type": "execute_result"
    }
   ],
   "source": [
    "data.std()"
   ]
  },
  {
   "cell_type": "markdown",
   "metadata": {},
   "source": [
    "Standard deviation for a subset of columns"
   ]
  },
  {
   "cell_type": "code",
   "execution_count": 17,
   "metadata": {},
   "outputs": [
    {
     "data": {
      "text/plain": [
       "max_temp        20.361247\n",
       "max_pressure     0.172189\n",
       "max_wind         5.564329\n",
       "dtype: float64"
      ]
     },
     "execution_count": 17,
     "metadata": {},
     "output_type": "execute_result"
    }
   ],
   "source": [
    "data[[\"max_temp\", \"max_pressure\", \"max_wind\"]].std()"
   ]
  },
  {
   "cell_type": "markdown",
   "metadata": {},
   "source": [
    "### Exercise 2:\n",
    "\n",
    "What is the range of temperatures in the dataset?\n",
    "\n",
    "Hint: columns have `max()` and `min()` methods."
   ]
  },
  {
   "cell_type": "code",
   "execution_count": 9,
   "metadata": {},
   "outputs": [
    {
     "name": "stdout",
     "output_type": "stream",
     "text": [
      "106\n",
      "16\n",
      "Temperature range: 90 degrees F\n"
     ]
    }
   ],
   "source": [
    "hottest_temp = data[\"max_temp\"].max()\n",
    "print(hottest_temp)\n",
    "coldest_temp = data[\"max_temp\"].min()\n",
    "print(coldest_temp)\n",
    "print(\"Temperature range:\", hottest_temp - coldest_temp, \"degrees F\")"
   ]
  },
  {
   "cell_type": "markdown",
   "metadata": {},
   "source": [
    "## Bulk Operations with `apply()`\n",
    "\n",
    "Built-on methods like `sum()` and `std()` work on entire columns. \n",
    "We can run our own functions across all values in a column (or row) \n",
    "using `apply()`.\n",
    "\n",
    "Let's convert strings representing dates in EDT column to `datetime.datetime` \n",
    "type.\n",
    "\n",
    "First, let's examine the string date representations:"
   ]
  },
  {
   "cell_type": "code",
   "execution_count": 20,
   "metadata": {},
   "outputs": [
    {
     "name": "stdout",
     "output_type": "stream",
     "text": [
      "2012-3-10 is a <class 'str'>\n"
     ]
    }
   ],
   "source": [
    "first_date = data.date.values[0]\n",
    "print(first_date, \"is a\", type(first_date))"
   ]
  },
  {
   "cell_type": "markdown",
   "metadata": {},
   "source": [
    "The strptime function from the `datetime` module converts date string."
   ]
  },
  {
   "cell_type": "code",
   "execution_count": 21,
   "metadata": {},
   "outputs": [
    {
     "data": {
      "text/plain": [
       "datetime.datetime(2012, 3, 10, 0, 0)"
      ]
     },
     "execution_count": 21,
     "metadata": {},
     "output_type": "execute_result"
    }
   ],
   "source": [
    "# Import the datetime class from the datetime module\n",
    "from datetime import datetime\n",
    "\n",
    "# Convert date string to datetime object\n",
    "datetime.strptime(first_date, \"%Y-%m-%d\")"
   ]
  },
  {
   "cell_type": "markdown",
   "metadata": {},
   "source": [
    "Apply our coversion procedure to the all values of `data.EDT` column"
   ]
  },
  {
   "cell_type": "code",
   "execution_count": 22,
   "metadata": {},
   "outputs": [
    {
     "name": "stdout",
     "output_type": "stream",
     "text": [
      "0   2012-03-10\n",
      "1   2012-03-11\n",
      "2   2012-03-12\n",
      "3   2012-03-13\n",
      "4   2012-03-14\n",
      "Name: date_1, dtype: datetime64[ns]\n"
     ]
    }
   ],
   "source": [
    "def string_to_date(date_string):\n",
    "    # Define a function to convert strings to dates\n",
    "    return datetime.strptime(date_string, \"%Y-%m-%d\")\n",
    "\n",
    "# Run the function on every date string and overwrite the column\n",
    "data['date_1'] = data.date.apply(string_to_date)\n",
    "print(data.date_1.head())"
   ]
  },
  {
   "cell_type": "markdown",
   "metadata": {},
   "source": [
    "### Exercise 3\n",
    "\n",
    "Perform the same conversion from a string to a `datetime` by using `lambda`"
   ]
  },
  {
   "cell_type": "code",
   "execution_count": 17,
   "metadata": {},
   "outputs": [
    {
     "ename": "NameError",
     "evalue": "name 'datetime' is not defined",
     "output_type": "error",
     "traceback": [
      "\u001b[1;31m---------------------------------------------------------------------------\u001b[0m",
      "\u001b[1;31mNameError\u001b[0m                                 Traceback (most recent call last)",
      "\u001b[1;32m<ipython-input-17-3902bd48806c>\u001b[0m in \u001b[0;36m<module>\u001b[1;34m\u001b[0m\n\u001b[1;32m----> 1\u001b[1;33m \u001b[0mdata\u001b[0m\u001b[1;33m[\u001b[0m\u001b[1;34m'date_2'\u001b[0m\u001b[1;33m]\u001b[0m \u001b[1;33m=\u001b[0m \u001b[0mdata\u001b[0m\u001b[1;33m.\u001b[0m\u001b[0mdate\u001b[0m\u001b[1;33m.\u001b[0m\u001b[0mapply\u001b[0m\u001b[1;33m(\u001b[0m\u001b[1;32mlambda\u001b[0m \u001b[0mx\u001b[0m\u001b[1;33m:\u001b[0m \u001b[0mdatetime\u001b[0m\u001b[1;33m.\u001b[0m\u001b[0mstrptime\u001b[0m\u001b[1;33m(\u001b[0m\u001b[0mx\u001b[0m\u001b[1;33m,\u001b[0m \u001b[1;34m\"%Y-%m-%d\"\u001b[0m\u001b[1;33m)\u001b[0m\u001b[1;33m)\u001b[0m\u001b[1;33m\u001b[0m\u001b[1;33m\u001b[0m\u001b[0m\n\u001b[0m\u001b[0;32m      2\u001b[0m \u001b[0mprint\u001b[0m\u001b[1;33m(\u001b[0m\u001b[0mdata\u001b[0m\u001b[1;33m.\u001b[0m\u001b[0mdate_2\u001b[0m\u001b[1;33m.\u001b[0m\u001b[0mhead\u001b[0m\u001b[1;33m(\u001b[0m\u001b[1;33m)\u001b[0m\u001b[1;33m)\u001b[0m\u001b[1;33m\u001b[0m\u001b[1;33m\u001b[0m\u001b[0m\n",
      "\u001b[1;32m~\\AppData\\Local\\Continuum\\anaconda3\\lib\\site-packages\\pandas\\core\\series.py\u001b[0m in \u001b[0;36mapply\u001b[1;34m(self, func, convert_dtype, args, **kwds)\u001b[0m\n\u001b[0;32m   4040\u001b[0m             \u001b[1;32melse\u001b[0m\u001b[1;33m:\u001b[0m\u001b[1;33m\u001b[0m\u001b[1;33m\u001b[0m\u001b[0m\n\u001b[0;32m   4041\u001b[0m                 \u001b[0mvalues\u001b[0m \u001b[1;33m=\u001b[0m \u001b[0mself\u001b[0m\u001b[1;33m.\u001b[0m\u001b[0mastype\u001b[0m\u001b[1;33m(\u001b[0m\u001b[0mobject\u001b[0m\u001b[1;33m)\u001b[0m\u001b[1;33m.\u001b[0m\u001b[0mvalues\u001b[0m\u001b[1;33m\u001b[0m\u001b[1;33m\u001b[0m\u001b[0m\n\u001b[1;32m-> 4042\u001b[1;33m                 \u001b[0mmapped\u001b[0m \u001b[1;33m=\u001b[0m \u001b[0mlib\u001b[0m\u001b[1;33m.\u001b[0m\u001b[0mmap_infer\u001b[0m\u001b[1;33m(\u001b[0m\u001b[0mvalues\u001b[0m\u001b[1;33m,\u001b[0m \u001b[0mf\u001b[0m\u001b[1;33m,\u001b[0m \u001b[0mconvert\u001b[0m\u001b[1;33m=\u001b[0m\u001b[0mconvert_dtype\u001b[0m\u001b[1;33m)\u001b[0m\u001b[1;33m\u001b[0m\u001b[1;33m\u001b[0m\u001b[0m\n\u001b[0m\u001b[0;32m   4043\u001b[0m \u001b[1;33m\u001b[0m\u001b[0m\n\u001b[0;32m   4044\u001b[0m         \u001b[1;32mif\u001b[0m \u001b[0mlen\u001b[0m\u001b[1;33m(\u001b[0m\u001b[0mmapped\u001b[0m\u001b[1;33m)\u001b[0m \u001b[1;32mand\u001b[0m \u001b[0misinstance\u001b[0m\u001b[1;33m(\u001b[0m\u001b[0mmapped\u001b[0m\u001b[1;33m[\u001b[0m\u001b[1;36m0\u001b[0m\u001b[1;33m]\u001b[0m\u001b[1;33m,\u001b[0m \u001b[0mSeries\u001b[0m\u001b[1;33m)\u001b[0m\u001b[1;33m:\u001b[0m\u001b[1;33m\u001b[0m\u001b[1;33m\u001b[0m\u001b[0m\n",
      "\u001b[1;32mpandas\\_libs\\lib.pyx\u001b[0m in \u001b[0;36mpandas._libs.lib.map_infer\u001b[1;34m()\u001b[0m\n",
      "\u001b[1;32m<ipython-input-17-3902bd48806c>\u001b[0m in \u001b[0;36m<lambda>\u001b[1;34m(x)\u001b[0m\n\u001b[1;32m----> 1\u001b[1;33m \u001b[0mdata\u001b[0m\u001b[1;33m[\u001b[0m\u001b[1;34m'date_2'\u001b[0m\u001b[1;33m]\u001b[0m \u001b[1;33m=\u001b[0m \u001b[0mdata\u001b[0m\u001b[1;33m.\u001b[0m\u001b[0mdate\u001b[0m\u001b[1;33m.\u001b[0m\u001b[0mapply\u001b[0m\u001b[1;33m(\u001b[0m\u001b[1;32mlambda\u001b[0m \u001b[0mx\u001b[0m\u001b[1;33m:\u001b[0m \u001b[0mdatetime\u001b[0m\u001b[1;33m.\u001b[0m\u001b[0mstrptime\u001b[0m\u001b[1;33m(\u001b[0m\u001b[0mx\u001b[0m\u001b[1;33m,\u001b[0m \u001b[1;34m\"%Y-%m-%d\"\u001b[0m\u001b[1;33m)\u001b[0m\u001b[1;33m)\u001b[0m\u001b[1;33m\u001b[0m\u001b[1;33m\u001b[0m\u001b[0m\n\u001b[0m\u001b[0;32m      2\u001b[0m \u001b[0mprint\u001b[0m\u001b[1;33m(\u001b[0m\u001b[0mdata\u001b[0m\u001b[1;33m.\u001b[0m\u001b[0mdate_2\u001b[0m\u001b[1;33m.\u001b[0m\u001b[0mhead\u001b[0m\u001b[1;33m(\u001b[0m\u001b[1;33m)\u001b[0m\u001b[1;33m)\u001b[0m\u001b[1;33m\u001b[0m\u001b[1;33m\u001b[0m\u001b[0m\n",
      "\u001b[1;31mNameError\u001b[0m: name 'datetime' is not defined"
     ]
    }
   ],
   "source": [
    "data['date_2'] = data.date.apply(lambda x: datetime.strptime(x, \"%Y-%m-%d\"))\n",
    "print(data.date_2.head())"
   ]
  },
  {
   "cell_type": "markdown",
   "metadata": {},
   "source": [
    "## Indexes\n",
    "\n",
    "Each row in our DateFrame represents the weather from a single day. \n",
    "Each row in a DataFrame is associated with an index, which is a label \n",
    "that uniquely identifies a row.\n",
    "\n",
    "Our row indices up to now have been auto-generated by pandas, and are simply \n",
    "integers from 0 to 365. If we use dates instead of integers for our index, \n",
    "we will get some extra benefits from pandas when plotting later on. \n",
    "Overwriting the index is as easy as assigning to the index property \n",
    "of the DataFrame."
   ]
  },
  {
   "cell_type": "code",
   "execution_count": 24,
   "metadata": {},
   "outputs": [
    {
     "name": "stdout",
     "output_type": "stream",
     "text": [
      "DatetimeIndex(['2012-03-10', '2012-03-11', '2012-03-12', '2012-03-13',\n",
      "               '2012-03-14', '2012-03-15', '2012-03-16', '2012-03-17',\n",
      "               '2012-03-18', '2012-03-19',\n",
      "               ...\n",
      "               '2013-03-01', '2013-03-02', '2013-03-03', '2013-03-04',\n",
      "               '2013-03-05', '2013-03-06', '2013-03-07', '2013-03-08',\n",
      "               '2013-03-09', '2013-03-10'],\n",
      "              dtype='datetime64[ns]', name='date_1', length=366, freq=None)\n"
     ]
    }
   ],
   "source": [
    "data.index = data.date_1\n",
    "print(data.index)"
   ]
  },
  {
   "cell_type": "markdown",
   "metadata": {},
   "source": [
    "Accessing rows of the DataFrame by index"
   ]
  },
  {
   "cell_type": "markdown",
   "metadata": {},
   "source": [
    "We can look up a row by its date (index label) with the loc[] property"
   ]
  },
  {
   "cell_type": "code",
   "execution_count": 25,
   "metadata": {},
   "outputs": [
    {
     "name": "stdout",
     "output_type": "stream",
     "text": [
      "Weather on  2012-08-19 00:00:00\n",
      "date                         2012-8-19\n",
      "max_temp                            82\n",
      "mean_temp                           67\n",
      "min_temp                            51\n",
      "max_dew                             56\n",
      "mean_dew                            50\n",
      "min_dew                             42\n",
      "max_humidity                        96\n",
      "mean_humidity                       62\n",
      "min_humidity                        28\n",
      "max_pressure                     29.95\n",
      "mean_pressure                    29.92\n",
      "min_pressure                     29.89\n",
      "max_visibilty                       10\n",
      "mean_visibility                     10\n",
      "min_visibility                      10\n",
      "max_wind                            14\n",
      "mean_wind                            3\n",
      "min_wind                            21\n",
      "precipitation                     0.00\n",
      "cloud_cover                          1\n",
      "events                             NaN\n",
      "wind_dir                             1\n",
      "date_1             2012-08-19 00:00:00\n",
      "date_2             2012-08-19 00:00:00\n",
      "Name: 2012-08-19 00:00:00, dtype: object\n"
     ]
    }
   ],
   "source": [
    "date = datetime(2012, 8, 19)\n",
    "print(\"Weather on \", date)\n",
    "print(data.loc[date])"
   ]
  },
  {
   "cell_type": "markdown",
   "metadata": {},
   "source": [
    "We can even slice out a while month using a list-like syntax"
   ]
  },
  {
   "cell_type": "code",
   "execution_count": 26,
   "metadata": {},
   "outputs": [
    {
     "name": "stdout",
     "output_type": "stream",
     "text": [
      "\n",
      "Weather for a range of dates\n",
      "                date  max_temp  mean_temp  min_temp  max_dew  mean_dew  \\\n",
      "date_1                                                                   \n",
      "2012-04-01  2012-4-1        79         64        48       62        52   \n",
      "2012-04-02  2012-4-2        68         62        55       60        51   \n",
      "2012-04-03  2012-4-3        84         69        53       60        51   \n",
      "2012-04-04  2012-4-4        68         62        55       59        54   \n",
      "2012-04-05  2012-4-5        61         53        44       43        35   \n",
      "2012-04-06  2012-4-6        61         48        35       35        31   \n",
      "2012-04-07  2012-4-7        67         50        32       43        31   \n",
      "\n",
      "            min_dew  max_humidity  mean_humidity  min_humidity  ...  \\\n",
      "date_1                                                          ...   \n",
      "2012-04-01       44            96             75            54  ...   \n",
      "2012-04-02       45            97             73            48  ...   \n",
      "2012-04-03       41            66             53            40  ...   \n",
      "2012-04-04       42            90             74            57  ...   \n",
      "2012-04-05       30            92             64            36  ...   \n",
      "2012-04-06       28            79             56            32  ...   \n",
      "2012-04-07       26            82             52            22  ...   \n",
      "\n",
      "            min_visibility  max_wind  mean_wind  min_wind  precipitation  \\\n",
      "date_1                                                                     \n",
      "2012-04-01               1        24          7      31.0           0.51   \n",
      "2012-04-02               5        16          9      21.0           0.01   \n",
      "2012-04-03              10        14          6      18.0           0.00   \n",
      "2012-04-04               3        15          7      18.0           0.01   \n",
      "2012-04-05               2        20         12      28.0           0.69   \n",
      "2012-04-06              10        16          8      22.0           0.00   \n",
      "2012-04-07              10        10          3      14.0           0.00   \n",
      "\n",
      "            cloud_cover             events  wind_dir     date_1     date_2  \n",
      "date_1                                                                      \n",
      "2012-04-01            4  Rain-Thunderstorm       169 2012-04-01 2012-04-01  \n",
      "2012-04-02            3                NaN       109 2012-04-02 2012-04-02  \n",
      "2012-04-03            0                NaN       188 2012-04-03 2012-04-03  \n",
      "2012-04-04            6  Rain-Thunderstorm        42 2012-04-04 2012-04-04  \n",
      "2012-04-05            3               Rain        66 2012-04-05 2012-04-05  \n",
      "2012-04-06            0                NaN        55 2012-04-06 2012-04-06  \n",
      "2012-04-07            1                NaN       131 2012-04-07 2012-04-07  \n",
      "\n",
      "[7 rows x 25 columns]\n"
     ]
    }
   ],
   "source": [
    "print(\"\\nWeather for a range of dates\")\n",
    "print(data[datetime(2012, 4, 1):datetime(2012, 4, 7)])"
   ]
  },
  {
   "cell_type": "markdown",
   "metadata": {},
   "source": [
    "With all of the dates in the index now, we no longer need the \"data\", \"date_1\" \n",
    "and date_2\" columns. Let's drop them."
   ]
  },
  {
   "cell_type": "code",
   "execution_count": 27,
   "metadata": {},
   "outputs": [
    {
     "name": "stdout",
     "output_type": "stream",
     "text": [
      "Index(['max_temp', 'mean_temp', 'min_temp', 'max_dew', 'mean_dew', 'min_dew',\n",
      "       'max_humidity', 'mean_humidity', 'min_humidity', 'max_pressure',\n",
      "       'mean_pressure', 'min_pressure', 'max_visibilty', 'mean_visibility',\n",
      "       'min_visibility', 'max_wind', 'mean_wind', 'min_wind', 'precipitation',\n",
      "       'cloud_cover', 'events', 'wind_dir'],\n",
      "      dtype='object')\n"
     ]
    }
   ],
   "source": [
    "data = data.drop([\"date\", \"date_1\", \"date_2\"], axis=1) \n",
    "print(data.columns)"
   ]
  },
  {
   "cell_type": "markdown",
   "metadata": {},
   "source": [
    "### Exercise 4\n",
    "\n",
    "Print out the cloud cover for each day in May.\n",
    "\n",
    "Hint: you can make datetime objects with the `datetime(year, month, day)` \n",
    "function"
   ]
  },
  {
   "cell_type": "code",
   "execution_count": 28,
   "metadata": {},
   "outputs": [
    {
     "name": "stdout",
     "output_type": "stream",
     "text": [
      "2012-05-01 00:00:00\n"
     ]
    },
    {
     "data": {
      "text/plain": [
       "date_1\n",
       "2012-05-01    6\n",
       "2012-05-02    1\n",
       "2012-05-03    0\n",
       "2012-05-04    6\n",
       "2012-05-05    3\n",
       "2012-05-06    0\n",
       "2012-05-07    5\n",
       "2012-05-08    4\n",
       "2012-05-09    3\n",
       "2012-05-10    1\n",
       "2012-05-11    0\n",
       "2012-05-12    1\n",
       "2012-05-13    4\n",
       "2012-05-14    4\n",
       "2012-05-15    0\n",
       "2012-05-16    0\n",
       "2012-05-17    0\n",
       "2012-05-18    0\n",
       "2012-05-19    0\n",
       "2012-05-20    1\n",
       "2012-05-21    4\n",
       "2012-05-22    2\n",
       "2012-05-23    0\n",
       "2012-05-24    0\n",
       "2012-05-25    2\n",
       "2012-05-26    0\n",
       "2012-05-27    0\n",
       "2012-05-28    0\n",
       "2012-05-29    4\n",
       "2012-05-30    1\n",
       "2012-05-31    4\n",
       "Name: cloud_cover, dtype: int64"
      ]
     },
     "execution_count": 28,
     "metadata": {},
     "output_type": "execute_result"
    }
   ],
   "source": [
    "print(datetime(2012, 5, 1))  # May 1st of 2012\n",
    "\n",
    "data[datetime(2012, 5, 1):datetime(2012, 5, 31)].cloud_cover"
   ]
  },
  {
   "cell_type": "markdown",
   "metadata": {},
   "source": [
    "## Handling missing values\n",
    "\n",
    "Pandas considers values like `NaN` and `None` to represent missing data. \n",
    "The `pandas.isnull()` function can be used to tell whether or not a value is \n",
    "missing.\n",
    "\n",
    "We can use apply() across all of the columns in our DataFrame to figure out \n",
    "which values are missing."
   ]
  },
  {
   "cell_type": "code",
   "execution_count": 10,
   "metadata": {},
   "outputs": [
    {
     "name": "stdout",
     "output_type": "stream",
     "text": [
      "<class 'pandas.core.frame.DataFrame'>\n",
      "RangeIndex: 366 entries, 0 to 365\n",
      "Data columns (total 23 columns):\n",
      "date               366 non-null bool\n",
      "max_temp           366 non-null bool\n",
      "mean_temp          366 non-null bool\n",
      "min_temp           366 non-null bool\n",
      "max_dew            366 non-null bool\n",
      "mean_dew           366 non-null bool\n",
      "min_dew            366 non-null bool\n",
      "max_humidity       366 non-null bool\n",
      "mean_humidity      366 non-null bool\n",
      "min_humidity       366 non-null bool\n",
      "max_pressure       366 non-null bool\n",
      "mean_pressure      366 non-null bool\n",
      "min_pressure       366 non-null bool\n",
      "max_visibilty      366 non-null bool\n",
      "mean_visibility    366 non-null bool\n",
      "min_visibility     366 non-null bool\n",
      "max_wind           366 non-null bool\n",
      "mean_wind          366 non-null bool\n",
      "min_wind           366 non-null bool\n",
      "precipitation      366 non-null bool\n",
      "cloud_cover        366 non-null bool\n",
      "events             366 non-null bool\n",
      "wind_dir           366 non-null bool\n",
      "dtypes: bool(23)\n",
      "memory usage: 8.3 KB\n",
      "None\n"
     ]
    }
   ],
   "source": [
    "empty = data.apply(lambda col: pandas.isnull(col))\n",
    "print(empty.info())"
   ]
  },
  {
   "cell_type": "markdown",
   "metadata": {},
   "source": [
    "There are some missing values because a True was returned from pandas.isnull."
   ]
  },
  {
   "cell_type": "code",
   "execution_count": 11,
   "metadata": {},
   "outputs": [
    {
     "name": "stdout",
     "output_type": "stream",
     "text": [
      "0     True\n",
      "1    False\n",
      "2    False\n",
      "3     True\n",
      "4     True\n",
      "5    False\n",
      "6     True\n",
      "7    False\n",
      "8    False\n",
      "9     True\n",
      "Name: events, dtype: bool\n",
      "0                  NaN\n",
      "1                 Rain\n",
      "2                 Rain\n",
      "3                  NaN\n",
      "4                  NaN\n",
      "5    Rain-Thunderstorm\n",
      "6                  NaN\n",
      "7     Fog-Thunderstorm\n",
      "8                 Rain\n",
      "9                  NaN\n",
      "Name: events, dtype: object\n"
     ]
    }
   ],
   "source": [
    "print(empty.events.head(10))\n",
    "print(data.events.head(10))"
   ]
  },
  {
   "cell_type": "markdown",
   "metadata": {},
   "source": [
    "Filtering out rows with missing 'event' values"
   ]
  },
  {
   "cell_type": "code",
   "execution_count": 12,
   "metadata": {},
   "outputs": [
    {
     "name": "stdout",
     "output_type": "stream",
     "text": [
      "<class 'pandas.core.frame.DataFrame'>\n",
      "Int64Index: 162 entries, 1 to 361\n",
      "Data columns (total 23 columns):\n",
      "date               162 non-null object\n",
      "max_temp           162 non-null int64\n",
      "mean_temp          162 non-null int64\n",
      "min_temp           162 non-null int64\n",
      "max_dew            162 non-null int64\n",
      "mean_dew           162 non-null int64\n",
      "min_dew            162 non-null int64\n",
      "max_humidity       162 non-null int64\n",
      "mean_humidity      162 non-null int64\n",
      "min_humidity       162 non-null int64\n",
      "max_pressure       162 non-null float64\n",
      "mean_pressure      162 non-null float64\n",
      "min_pressure       162 non-null float64\n",
      "max_visibilty      162 non-null int64\n",
      "mean_visibility    162 non-null int64\n",
      "min_visibility     162 non-null int64\n",
      "max_wind           162 non-null int64\n",
      "mean_wind          162 non-null int64\n",
      "min_wind           162 non-null float64\n",
      "precipitation      162 non-null object\n",
      "cloud_cover        162 non-null int64\n",
      "events             162 non-null object\n",
      "wind_dir           162 non-null int64\n",
      "dtypes: float64(4), int64(16), object(3)\n",
      "memory usage: 30.4+ KB\n"
     ]
    }
   ],
   "source": [
    "data.dropna(subset=[\"events\"]).info()"
   ]
  },
  {
   "cell_type": "code",
   "execution_count": 13,
   "metadata": {},
   "outputs": [
    {
     "data": {
      "text/html": [
       "<div>\n",
       "<style scoped>\n",
       "    .dataframe tbody tr th:only-of-type {\n",
       "        vertical-align: middle;\n",
       "    }\n",
       "\n",
       "    .dataframe tbody tr th {\n",
       "        vertical-align: top;\n",
       "    }\n",
       "\n",
       "    .dataframe thead th {\n",
       "        text-align: right;\n",
       "    }\n",
       "</style>\n",
       "<table border=\"1\" class=\"dataframe\">\n",
       "  <thead>\n",
       "    <tr style=\"text-align: right;\">\n",
       "      <th></th>\n",
       "      <th>date</th>\n",
       "      <th>max_temp</th>\n",
       "      <th>mean_temp</th>\n",
       "      <th>min_temp</th>\n",
       "      <th>max_dew</th>\n",
       "      <th>mean_dew</th>\n",
       "      <th>min_dew</th>\n",
       "      <th>max_humidity</th>\n",
       "      <th>mean_humidity</th>\n",
       "      <th>min_humidity</th>\n",
       "      <th>...</th>\n",
       "      <th>max_visibilty</th>\n",
       "      <th>mean_visibility</th>\n",
       "      <th>min_visibility</th>\n",
       "      <th>max_wind</th>\n",
       "      <th>mean_wind</th>\n",
       "      <th>min_wind</th>\n",
       "      <th>precipitation</th>\n",
       "      <th>cloud_cover</th>\n",
       "      <th>events</th>\n",
       "      <th>wind_dir</th>\n",
       "    </tr>\n",
       "  </thead>\n",
       "  <tbody>\n",
       "    <tr>\n",
       "      <td>1</td>\n",
       "      <td>2012-3-11</td>\n",
       "      <td>67</td>\n",
       "      <td>49</td>\n",
       "      <td>30</td>\n",
       "      <td>43</td>\n",
       "      <td>31</td>\n",
       "      <td>24</td>\n",
       "      <td>78</td>\n",
       "      <td>53</td>\n",
       "      <td>28</td>\n",
       "      <td>...</td>\n",
       "      <td>10</td>\n",
       "      <td>10</td>\n",
       "      <td>10</td>\n",
       "      <td>22</td>\n",
       "      <td>7</td>\n",
       "      <td>32.0</td>\n",
       "      <td>T</td>\n",
       "      <td>1</td>\n",
       "      <td>Rain</td>\n",
       "      <td>163</td>\n",
       "    </tr>\n",
       "    <tr>\n",
       "      <td>2</td>\n",
       "      <td>2012-3-12</td>\n",
       "      <td>71</td>\n",
       "      <td>62</td>\n",
       "      <td>53</td>\n",
       "      <td>59</td>\n",
       "      <td>55</td>\n",
       "      <td>43</td>\n",
       "      <td>90</td>\n",
       "      <td>76</td>\n",
       "      <td>61</td>\n",
       "      <td>...</td>\n",
       "      <td>10</td>\n",
       "      <td>10</td>\n",
       "      <td>6</td>\n",
       "      <td>24</td>\n",
       "      <td>14</td>\n",
       "      <td>36.0</td>\n",
       "      <td>0.03</td>\n",
       "      <td>6</td>\n",
       "      <td>Rain</td>\n",
       "      <td>190</td>\n",
       "    </tr>\n",
       "    <tr>\n",
       "      <td>5</td>\n",
       "      <td>2012-3-15</td>\n",
       "      <td>79</td>\n",
       "      <td>69</td>\n",
       "      <td>58</td>\n",
       "      <td>61</td>\n",
       "      <td>58</td>\n",
       "      <td>53</td>\n",
       "      <td>90</td>\n",
       "      <td>69</td>\n",
       "      <td>48</td>\n",
       "      <td>...</td>\n",
       "      <td>10</td>\n",
       "      <td>10</td>\n",
       "      <td>10</td>\n",
       "      <td>31</td>\n",
       "      <td>10</td>\n",
       "      <td>41.0</td>\n",
       "      <td>0.04</td>\n",
       "      <td>3</td>\n",
       "      <td>Rain-Thunderstorm</td>\n",
       "      <td>209</td>\n",
       "    </tr>\n",
       "    <tr>\n",
       "      <td>7</td>\n",
       "      <td>2012-3-17</td>\n",
       "      <td>78</td>\n",
       "      <td>62</td>\n",
       "      <td>46</td>\n",
       "      <td>60</td>\n",
       "      <td>54</td>\n",
       "      <td>46</td>\n",
       "      <td>100</td>\n",
       "      <td>78</td>\n",
       "      <td>56</td>\n",
       "      <td>...</td>\n",
       "      <td>10</td>\n",
       "      <td>5</td>\n",
       "      <td>0</td>\n",
       "      <td>12</td>\n",
       "      <td>5</td>\n",
       "      <td>17.0</td>\n",
       "      <td>T</td>\n",
       "      <td>3</td>\n",
       "      <td>Fog-Thunderstorm</td>\n",
       "      <td>162</td>\n",
       "    </tr>\n",
       "    <tr>\n",
       "      <td>8</td>\n",
       "      <td>2012-3-18</td>\n",
       "      <td>80</td>\n",
       "      <td>70</td>\n",
       "      <td>59</td>\n",
       "      <td>61</td>\n",
       "      <td>58</td>\n",
       "      <td>57</td>\n",
       "      <td>93</td>\n",
       "      <td>69</td>\n",
       "      <td>45</td>\n",
       "      <td>...</td>\n",
       "      <td>10</td>\n",
       "      <td>10</td>\n",
       "      <td>9</td>\n",
       "      <td>18</td>\n",
       "      <td>8</td>\n",
       "      <td>25.0</td>\n",
       "      <td>T</td>\n",
       "      <td>2</td>\n",
       "      <td>Rain</td>\n",
       "      <td>197</td>\n",
       "    </tr>\n",
       "    <tr>\n",
       "      <td>12</td>\n",
       "      <td>2012-3-22</td>\n",
       "      <td>81</td>\n",
       "      <td>69</td>\n",
       "      <td>57</td>\n",
       "      <td>63</td>\n",
       "      <td>57</td>\n",
       "      <td>51</td>\n",
       "      <td>87</td>\n",
       "      <td>65</td>\n",
       "      <td>42</td>\n",
       "      <td>...</td>\n",
       "      <td>10</td>\n",
       "      <td>10</td>\n",
       "      <td>2</td>\n",
       "      <td>31</td>\n",
       "      <td>4</td>\n",
       "      <td>41.0</td>\n",
       "      <td>0.14</td>\n",
       "      <td>3</td>\n",
       "      <td>Rain</td>\n",
       "      <td>159</td>\n",
       "    </tr>\n",
       "    <tr>\n",
       "      <td>13</td>\n",
       "      <td>2012-3-23</td>\n",
       "      <td>73</td>\n",
       "      <td>64</td>\n",
       "      <td>55</td>\n",
       "      <td>61</td>\n",
       "      <td>58</td>\n",
       "      <td>54</td>\n",
       "      <td>97</td>\n",
       "      <td>79</td>\n",
       "      <td>61</td>\n",
       "      <td>...</td>\n",
       "      <td>10</td>\n",
       "      <td>9</td>\n",
       "      <td>2</td>\n",
       "      <td>21</td>\n",
       "      <td>6</td>\n",
       "      <td>24.0</td>\n",
       "      <td>0.86</td>\n",
       "      <td>7</td>\n",
       "      <td>Rain-Thunderstorm</td>\n",
       "      <td>129</td>\n",
       "    </tr>\n",
       "    <tr>\n",
       "      <td>14</td>\n",
       "      <td>2012-3-24</td>\n",
       "      <td>65</td>\n",
       "      <td>56</td>\n",
       "      <td>46</td>\n",
       "      <td>54</td>\n",
       "      <td>49</td>\n",
       "      <td>43</td>\n",
       "      <td>100</td>\n",
       "      <td>80</td>\n",
       "      <td>48</td>\n",
       "      <td>...</td>\n",
       "      <td>10</td>\n",
       "      <td>8</td>\n",
       "      <td>0</td>\n",
       "      <td>12</td>\n",
       "      <td>5</td>\n",
       "      <td>14.0</td>\n",
       "      <td>0.06</td>\n",
       "      <td>5</td>\n",
       "      <td>Fog-Rain</td>\n",
       "      <td>222</td>\n",
       "    </tr>\n",
       "    <tr>\n",
       "      <td>18</td>\n",
       "      <td>2012-3-28</td>\n",
       "      <td>77</td>\n",
       "      <td>64</td>\n",
       "      <td>51</td>\n",
       "      <td>56</td>\n",
       "      <td>46</td>\n",
       "      <td>33</td>\n",
       "      <td>73</td>\n",
       "      <td>47</td>\n",
       "      <td>21</td>\n",
       "      <td>...</td>\n",
       "      <td>10</td>\n",
       "      <td>10</td>\n",
       "      <td>10</td>\n",
       "      <td>20</td>\n",
       "      <td>9</td>\n",
       "      <td>25.0</td>\n",
       "      <td>T</td>\n",
       "      <td>2</td>\n",
       "      <td>Thunderstorm</td>\n",
       "      <td>269</td>\n",
       "    </tr>\n",
       "    <tr>\n",
       "      <td>19</td>\n",
       "      <td>2012-3-29</td>\n",
       "      <td>69</td>\n",
       "      <td>58</td>\n",
       "      <td>46</td>\n",
       "      <td>45</td>\n",
       "      <td>39</td>\n",
       "      <td>35</td>\n",
       "      <td>76</td>\n",
       "      <td>55</td>\n",
       "      <td>34</td>\n",
       "      <td>...</td>\n",
       "      <td>10</td>\n",
       "      <td>10</td>\n",
       "      <td>10</td>\n",
       "      <td>14</td>\n",
       "      <td>6</td>\n",
       "      <td>17.0</td>\n",
       "      <td>T</td>\n",
       "      <td>2</td>\n",
       "      <td>Rain</td>\n",
       "      <td>84</td>\n",
       "    </tr>\n",
       "  </tbody>\n",
       "</table>\n",
       "<p>10 rows × 23 columns</p>\n",
       "</div>"
      ],
      "text/plain": [
       "         date  max_temp  mean_temp  min_temp  max_dew  mean_dew  min_dew  \\\n",
       "1   2012-3-11        67         49        30       43        31       24   \n",
       "2   2012-3-12        71         62        53       59        55       43   \n",
       "5   2012-3-15        79         69        58       61        58       53   \n",
       "7   2012-3-17        78         62        46       60        54       46   \n",
       "8   2012-3-18        80         70        59       61        58       57   \n",
       "12  2012-3-22        81         69        57       63        57       51   \n",
       "13  2012-3-23        73         64        55       61        58       54   \n",
       "14  2012-3-24        65         56        46       54        49       43   \n",
       "18  2012-3-28        77         64        51       56        46       33   \n",
       "19  2012-3-29        69         58        46       45        39       35   \n",
       "\n",
       "    max_humidity  mean_humidity  min_humidity  ...  max_visibilty  \\\n",
       "1             78             53            28  ...             10   \n",
       "2             90             76            61  ...             10   \n",
       "5             90             69            48  ...             10   \n",
       "7            100             78            56  ...             10   \n",
       "8             93             69            45  ...             10   \n",
       "12            87             65            42  ...             10   \n",
       "13            97             79            61  ...             10   \n",
       "14           100             80            48  ...             10   \n",
       "18            73             47            21  ...             10   \n",
       "19            76             55            34  ...             10   \n",
       "\n",
       "    mean_visibility  min_visibility  max_wind  mean_wind  min_wind  \\\n",
       "1                10              10        22          7      32.0   \n",
       "2                10               6        24         14      36.0   \n",
       "5                10              10        31         10      41.0   \n",
       "7                 5               0        12          5      17.0   \n",
       "8                10               9        18          8      25.0   \n",
       "12               10               2        31          4      41.0   \n",
       "13                9               2        21          6      24.0   \n",
       "14                8               0        12          5      14.0   \n",
       "18               10              10        20          9      25.0   \n",
       "19               10              10        14          6      17.0   \n",
       "\n",
       "    precipitation  cloud_cover             events wind_dir  \n",
       "1               T            1               Rain      163  \n",
       "2            0.03            6               Rain      190  \n",
       "5            0.04            3  Rain-Thunderstorm      209  \n",
       "7               T            3   Fog-Thunderstorm      162  \n",
       "8               T            2               Rain      197  \n",
       "12           0.14            3               Rain      159  \n",
       "13           0.86            7  Rain-Thunderstorm      129  \n",
       "14           0.06            5           Fog-Rain      222  \n",
       "18              T            2       Thunderstorm      269  \n",
       "19              T            2               Rain       84  \n",
       "\n",
       "[10 rows x 23 columns]"
      ]
     },
     "execution_count": 13,
     "metadata": {},
     "output_type": "execute_result"
    }
   ],
   "source": [
    "data.dropna(subset=[\"events\"]).head(10)"
   ]
  },
  {
   "cell_type": "markdown",
   "metadata": {},
   "source": [
    "Fill empty values with empty strings.\n",
    "This can be done with the `fillna()` function. "
   ]
  },
  {
   "cell_type": "code",
   "execution_count": 14,
   "metadata": {},
   "outputs": [
    {
     "data": {
      "text/plain": [
       "0                     \n",
       "1                 Rain\n",
       "2                 Rain\n",
       "3                     \n",
       "4                     \n",
       "5    Rain-Thunderstorm\n",
       "6                     \n",
       "7     Fog-Thunderstorm\n",
       "8                 Rain\n",
       "9                     \n",
       "Name: events, dtype: object"
      ]
     },
     "execution_count": 14,
     "metadata": {},
     "output_type": "execute_result"
    }
   ],
   "source": [
    "data.events = data.events.fillna(\"\")\n",
    "data.events.head(10)"
   ]
  },
  {
   "cell_type": "markdown",
   "metadata": {},
   "source": [
    "Accessing individual rows\n",
    "\n",
    "Sometimes you need to access individual rows in your DataFrame. \n",
    " * the `iloc[]` function lets you access the ith row from a DataFrame (starting\n",
    "from 0)."
   ]
  },
  {
   "cell_type": "code",
   "execution_count": 15,
   "metadata": {},
   "outputs": [
    {
     "data": {
      "text/plain": [
       "date               2012-3-10\n",
       "max_temp                  56\n",
       "mean_temp                 40\n",
       "min_temp                  24\n",
       "max_dew                   24\n",
       "mean_dew                  20\n",
       "min_dew                   16\n",
       "max_humidity              74\n",
       "mean_humidity             50\n",
       "min_humidity              26\n",
       "max_pressure           30.53\n",
       "mean_pressure          30.45\n",
       "min_pressure           30.34\n",
       "max_visibilty             10\n",
       "mean_visibility           10\n",
       "min_visibility            10\n",
       "max_wind                  13\n",
       "mean_wind                  6\n",
       "min_wind                  17\n",
       "precipitation           0.00\n",
       "cloud_cover                0\n",
       "events                      \n",
       "wind_dir                 138\n",
       "Name: 0, dtype: object"
      ]
     },
     "execution_count": 15,
     "metadata": {},
     "output_type": "execute_result"
    }
   ],
   "source": [
    "data.iloc[0]"
   ]
  },
  {
   "cell_type": "markdown",
   "metadata": {},
   "source": [
    " * the `loc[]` lets you access rows by lables in index."
   ]
  },
  {
   "cell_type": "code",
   "execution_count": 16,
   "metadata": {},
   "outputs": [
    {
     "ename": "NameError",
     "evalue": "name 'datetime' is not defined",
     "output_type": "error",
     "traceback": [
      "\u001b[1;31m---------------------------------------------------------------------------\u001b[0m",
      "\u001b[1;31mNameError\u001b[0m                                 Traceback (most recent call last)",
      "\u001b[1;32m<ipython-input-16-88e69ed73d3b>\u001b[0m in \u001b[0;36m<module>\u001b[1;34m\u001b[0m\n\u001b[1;32m----> 1\u001b[1;33m \u001b[0mdata\u001b[0m\u001b[1;33m.\u001b[0m\u001b[0mloc\u001b[0m\u001b[1;33m[\u001b[0m\u001b[0mdatetime\u001b[0m\u001b[1;33m(\u001b[0m\u001b[1;36m2013\u001b[0m\u001b[1;33m,\u001b[0m \u001b[1;36m1\u001b[0m\u001b[1;33m,\u001b[0m \u001b[1;36m1\u001b[0m\u001b[1;33m)\u001b[0m\u001b[1;33m]\u001b[0m\u001b[1;33m\u001b[0m\u001b[1;33m\u001b[0m\u001b[0m\n\u001b[0m",
      "\u001b[1;31mNameError\u001b[0m: name 'datetime' is not defined"
     ]
    }
   ],
   "source": [
    "data.loc[datetime(2013, 1, 1)]"
   ]
  },
  {
   "cell_type": "markdown",
   "metadata": {},
   "source": [
    "## Iterating over all rows of DataFrame\n",
    "\n",
    "You can iterate over each row in the DataFrame with `iterrows()`. \n",
    "Note that this function returns both the index and the row. Also, you must \n",
    "access columns in the row you get back from `iterrows()` with the dictionary \n",
    "syntax."
   ]
  },
  {
   "cell_type": "code",
   "execution_count": null,
   "metadata": {},
   "outputs": [],
   "source": [
    "num_rain = 0\n",
    "for idx, row in data.iterrows():\n",
    "    if \"Rain\" in row[\"events\"]:\n",
    "        num_rain += 1\n",
    "\n",
    "print(\"Days with rain:\", num_rain)"
   ]
  },
  {
   "cell_type": "markdown",
   "metadata": {},
   "source": [
    "### Exercise 5:\n",
    "\n",
    "Was there any November rain?\n",
    "\n",
    "Hint: check out the `strftime()` function on datetime objects and the \n",
    "[documentation](https://docs.python.org/3.6/library/datetime.html#strftime-and-strptime-behavior)."
   ]
  },
  {
   "cell_type": "code",
   "execution_count": null,
   "metadata": {},
   "outputs": [],
   "source": [
    "d = datetime(2012, 1, 1)\n",
    "d.strftime(\"%B\")  # returns the month of the date\n",
    "\n",
    "november_rain = <Fill out>\n",
    "for date_idx, row in <Fill out>:\n",
    "    <Fill out>\n",
    "\n",
    "if november_rain:\n",
    "    print(\"There was rain in November\")\n",
    "else:\n",
    "    print(\"There was *not* rain in November\")"
   ]
  },
  {
   "cell_type": "markdown",
   "metadata": {},
   "source": [
    "## Filtering\n",
    "\n",
    "Pandas is often used for selecting rows of interest from a DataFrame."
   ]
  },
  {
   "cell_type": "markdown",
   "metadata": {},
   "source": [
    "Gets all days with max temp <= 32"
   ]
  },
  {
   "cell_type": "code",
   "execution_count": null,
   "metadata": {},
   "outputs": [],
   "source": [
    "freezing_days = data[data.max_temp <= 32]\n",
    "freezing_days.head()"
   ]
  },
  {
   "cell_type": "markdown",
   "metadata": {},
   "source": [
    "Filters the DataFrame further by leaving rows with min temp >=20"
   ]
  },
  {
   "cell_type": "code",
   "execution_count": null,
   "metadata": {},
   "outputs": [],
   "source": [
    "freezing_days[freezing_days.min_temp >= 20].head()"
   ]
  },
  {
   "cell_type": "markdown",
   "metadata": {},
   "source": [
    "or doing the same using boolean operation"
   ]
  },
  {
   "cell_type": "code",
   "execution_count": null,
   "metadata": {},
   "outputs": [],
   "source": [
    "data[(data.max_temp <= 32) & (data.min_temp >= 20)].head()"
   ]
  },
  {
   "cell_type": "markdown",
   "metadata": {},
   "source": [
    "### How filtering is working in pandas\n",
    "\n",
    "It's important to understand what's really going on underneath with filtering. \n",
    "Let's look at what kind of object we actually get back when creating a filter.\n",
    "\n",
    "Filtering condition creates a pandas Series object. \n",
    "Because our DataFrame uses datetime objects for the index, \n",
    "we have a specialized `TimeSeries` object with boolean values for every item \n",
    "in the index.\n",
    "\n",
    "When the filter is applied, pandas lines up the rows of the `DataFrame` and the \n",
    "filter using the index, and then keeps the rows with a `True` filter value."
   ]
  },
  {
   "cell_type": "markdown",
   "metadata": {},
   "source": [
    "Filtering condition"
   ]
  },
  {
   "cell_type": "code",
   "execution_count": null,
   "metadata": {},
   "outputs": [],
   "source": [
    "temp_max = data.max_temp <= 32"
   ]
  },
  {
   "cell_type": "markdown",
   "metadata": {},
   "source": [
    "Filtering condition's type:"
   ]
  },
  {
   "cell_type": "code",
   "execution_count": null,
   "metadata": {},
   "outputs": [],
   "source": [
    "type(temp_max)"
   ]
  },
  {
   "cell_type": "markdown",
   "metadata": {},
   "source": [
    "Filtering condition:"
   ]
  },
  {
   "cell_type": "code",
   "execution_count": null,
   "metadata": {},
   "outputs": [],
   "source": [
    "temp_max.head()"
   ]
  },
  {
   "cell_type": "markdown",
   "metadata": {},
   "source": [
    "Apply filter"
   ]
  },
  {
   "cell_type": "code",
   "execution_count": null,
   "metadata": {},
   "outputs": [],
   "source": [
    "data[temp_max].head()"
   ]
  },
  {
   "cell_type": "markdown",
   "metadata": {},
   "source": [
    "More filtering"
   ]
  },
  {
   "cell_type": "code",
   "execution_count": null,
   "metadata": {},
   "outputs": [],
   "source": [
    "temp_min = data.min_temp >= 20"
   ]
  },
  {
   "cell_type": "markdown",
   "metadata": {},
   "source": [
    "Filtering condition:"
   ]
  },
  {
   "cell_type": "code",
   "execution_count": null,
   "metadata": {},
   "outputs": [],
   "source": [
    "temp_min.head()"
   ]
  },
  {
   "cell_type": "markdown",
   "metadata": {},
   "source": [
    "Boolean operations of filtering condition"
   ]
  },
  {
   "cell_type": "code",
   "execution_count": null,
   "metadata": {},
   "outputs": [],
   "source": [
    "(temp_min & temp_max).head()"
   ]
  },
  {
   "cell_type": "markdown",
   "metadata": {},
   "source": [
    "Boolean operations on filter: and (&)"
   ]
  },
  {
   "cell_type": "code",
   "execution_count": null,
   "metadata": {},
   "outputs": [],
   "source": [
    "data[temp_min & temp_max].head()"
   ]
  },
  {
   "cell_type": "markdown",
   "metadata": {},
   "source": [
    "Boolean operations on filter: or (|)"
   ]
  },
  {
   "cell_type": "code",
   "execution_count": null,
   "metadata": {},
   "outputs": [],
   "source": [
    "data[temp_min | temp_max].head()"
   ]
  },
  {
   "cell_type": "markdown",
   "metadata": {},
   "source": [
    "### Exercise 6\n",
    "\n",
    "What was the coldest it ever got when there was no cloud cover and no \n",
    "precipitation?"
   ]
  },
  {
   "cell_type": "code",
   "execution_count": null,
   "metadata": {},
   "outputs": [],
   "source": [
    "# Some rows contain 'T' value for precipitation, which stands for \n",
    "# \"trace amount of precipitation\". First convert 'T' to a small floating \n",
    "# point number\n",
    "def precipitation_to_float(precip_str):\n",
    "    if <Fill out>:\n",
    "        return <Fill out>  # very small value\n",
    "    return <Fill out>\n",
    "    \n",
    "data.precipitation = data.precipitation.apply(precipitation_to_float)\n",
    "\n",
    "# now find how the coldest it ever got when there was no cloud cover and no \n",
    "# precipitation    \n",
    "no_cloud_cover = data.cloud_cover == 0\n",
    "no_precipitation = data.precipitation == 0\n",
    "coldest_temp = data[no_cloud_cover & no_precipitation].min_temp.min()\n",
    "print(\"Coldest without cloud cover and precipitation was\", coldest_temp, \n",
    "      \"degree(s) F\")"
   ]
  },
  {
   "cell_type": "code",
   "execution_count": null,
   "metadata": {},
   "outputs": [],
   "source": [
    "coldest_temp = data[(data.cloud_cover == 0) & \n",
    "                    (data.precipitation == 0)].min_temp.min()\n",
    "coldest_temp"
   ]
  },
  {
   "cell_type": "markdown",
   "metadata": {},
   "source": [
    "## Grouping\n",
    "\n",
    "Besides apply(), another great DataFrame function is groupby(). \n",
    "It will group a DataFrame by one or more columns, and let you iterate \n",
    "through each group.\n",
    "\n",
    "As an example, let's group our DataFrame by the \"cloud_cover\" column \n",
    "(a value ranging from 0 to 8)."
   ]
  },
  {
   "cell_type": "code",
   "execution_count": null,
   "metadata": {},
   "outputs": [],
   "source": [
    "cover_temps = {}\n",
    "for cover, cover_data in data.groupby(\"cloud_cover\"):\n",
    "    cover_temps[cover] = cover_data.mean_temp.mean()  # The mean mean temp!\n",
    "cover_temps"
   ]
  },
  {
   "cell_type": "markdown",
   "metadata": {},
   "source": [
    "Alternatively, we can use groupby aggregation"
   ]
  },
  {
   "cell_type": "code",
   "execution_count": null,
   "metadata": {},
   "outputs": [],
   "source": [
    "data.groupby([\"cloud_cover\"]).mean_temp.mean()"
   ]
  },
  {
   "cell_type": "markdown",
   "metadata": {},
   "source": [
    "Iterating through the result of `groupby()`, means iterating over tuples. \n",
    "The first item is the column value, and the second item is a filtered \n",
    "`DataFrame` (where the column equals the first tuple value).\n",
    "\n",
    "You can group by more than one column as well. \n",
    "In this case, the first tuple item returned by `groupby()` will itself \n",
    "be a tuple with the value of each column."
   ]
  },
  {
   "cell_type": "code",
   "execution_count": null,
   "metadata": {},
   "outputs": [],
   "source": [
    "for (cover, events), group_data in data.groupby([\"cloud_cover\", \"events\"]):\n",
    "    print(\"Cover: {0}, Events: {1}, Count: {2}\" \\\n",
    "          .format(cover, events, len(group_data)))"
   ]
  },
  {
   "cell_type": "markdown",
   "metadata": {},
   "source": [
    "### Exersice 7\n",
    "\n",
    "Count number of elements in each `[\"cloud_cover\", \"events\"]` group by using \n",
    "`groupby` aggregation."
   ]
  },
  {
   "cell_type": "code",
   "execution_count": null,
   "metadata": {},
   "outputs": [],
   "source": [
    "data.groupby(<Fill out>).<Fill out>"
   ]
  },
  {
   "cell_type": "markdown",
   "metadata": {},
   "source": [
    "### Creating new columns\n",
    "\n",
    "Weather events in our DataFrame are stored in strings like \"Rain-Thunderstorm\" \n",
    "to represent that it rained and there was a thunderstorm that day. Let's split \n",
    "them out into boolean \"rain\", \"thunderstorm\", etc. columns.\n",
    "\n",
    "First, let's discover the different kinds of weather events we have with \n",
    "`unique()`."
   ]
  },
  {
   "cell_type": "code",
   "execution_count": null,
   "metadata": {},
   "outputs": [],
   "source": [
    "data.events.unique()\n",
    "# if not the whole array is printed out, use \n",
    "# [x for x in data.events.unique()]"
   ]
  },
  {
   "cell_type": "markdown",
   "metadata": {},
   "source": [
    "Let's create new columns for each of \"Rain\", \"Thunderstorm\", \"Fog\", and \"Snow\" \n",
    "events."
   ]
  },
  {
   "cell_type": "code",
   "execution_count": null,
   "metadata": {},
   "outputs": [],
   "source": [
    "for event_kind in [\"Rain\", \"Thunderstorm\", \"Fog\", \"Snow\"]:\n",
    "    col_name = event_kind.lower()  # Turn \"Rain\" into \"rain\", etc.\n",
    "    data[col_name] = data.events.apply(lambda e: event_kind in e)\n",
    "data.head(5)"
   ]
  },
  {
   "cell_type": "markdown",
   "metadata": {},
   "source": [
    "### Counting number of days with rain and with rain and snow"
   ]
  },
  {
   "cell_type": "markdown",
   "metadata": {},
   "source": [
    "Days with rain: "
   ]
  },
  {
   "cell_type": "code",
   "execution_count": null,
   "metadata": {},
   "outputs": [],
   "source": [
    "data.rain.sum()"
   ]
  },
  {
   "cell_type": "markdown",
   "metadata": {},
   "source": [
    "Days rain and snow:"
   ]
  },
  {
   "cell_type": "code",
   "execution_count": null,
   "metadata": {},
   "outputs": [],
   "source": [
    "data[data.rain & data.snow].count()[0]"
   ]
  },
  {
   "cell_type": "markdown",
   "metadata": {},
   "source": [
    "### Exercise 8\n",
    "\n",
    "Was the mean temperature more variable on days with rain and snow than on days \n",
    "with just rain or just snow?\n",
    "\n",
    "**Hint:** don't forget the `std()` function, which returns standard deviation for a sert - a \"measure\" of variability."
   ]
  },
  {
   "cell_type": "code",
   "execution_count": null,
   "metadata": {},
   "outputs": [],
   "source": [
    "days_with_rain = data[<Fill out>]\n",
    "days_with_snow = data[<Fill out>]\n",
    "\n",
    "rain_std = days_with_rain.<Fill out>\n",
    "snow_std = days_with_snow.<Fill out>\n",
    "\n",
    "if <Fill out>:\n",
    "    print(\"Rainy days were more variable\")\n",
    "elif <Fill out>:\n",
    "    print(\"Snowy days were more variable\")\n",
    "else:\n",
    "    print(\"They were the same\")\n",
    "    "
   ]
  }
 ],
 "metadata": {
  "kernelspec": {
   "display_name": "Python 3",
   "language": "python",
   "name": "python3"
  },
  "language_info": {
   "codemirror_mode": {
    "name": "ipython",
    "version": 3
   },
   "file_extension": ".py",
   "mimetype": "text/x-python",
   "name": "python",
   "nbconvert_exporter": "python",
   "pygments_lexer": "ipython3",
   "version": "3.7.4"
  }
 },
 "nbformat": 4,
 "nbformat_minor": 4
}
